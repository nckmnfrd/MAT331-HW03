{
 "cells": [
  {
   "cell_type": "markdown",
   "metadata": {},
   "source": [
    "<h1> Homework 03 </h1>\n",
    "\n",
    "<h3> Due Tue, Feb 26, 11:59pm </h3> \n",
    "\n",
    "Download the .ipynb file for this notebook, and place your solutions where indicated (you can make more cells for each problem), keeping the original problem descriptions.  Upload only one file, which contains all your work; it should be named \"HW03_firstname_lastname\".  Please include comments in your code; this can also help you get partial credit if your code doesn't work.\n",
    "\n",
    "Then upload it to Blackboard as Homework 3 in the Assignments tab. See Collaboration Policy in Homework section of course webpage (it's the same as it was for previous homeworks).  "
   ]
  },
  {
   "cell_type": "markdown",
   "metadata": {},
   "source": [
    "<h3> Problem 1 </h3>\n",
    "\n",
    "Write a function <samp>extended_gcd</samp> that takes in a pair of positive integers $a,b$ and returns a pair $(e,f)$ of integers such that $ae+bf=d$, where $d$ equals $gcd(a,b)$.  Do not use the builtin function <samp>xgcd</samp> (though you can use this to test your function).  Use your function to find an inverse of $17$ modulo $122$, i.e. an integer $e$ such that \n",
    "$$17e \\equiv 1 \\bmod 122.$$  "
   ]
  },
  {
   "cell_type": "code",
   "execution_count": 32,
   "metadata": {},
   "outputs": [
    {
     "name": "stdout",
     "output_type": "stream",
     "text": [
      "(1, -43, 6)\n",
      "(1, -43, 6)\n"
     ]
    }
   ],
   "source": [
    "def extended_gcd(a,b):\n",
    "    preve, e = 1, 0; prevf, f = 0, 1\n",
    "    while b:\n",
    "        q, d = divmod(a,b)\n",
    "        e, preve = preve - q*e, e\n",
    "        f, prevf = prevf - q*f, f\n",
    "        a, b = b, d\n",
    "    return a, preve, prevf\n",
    "print extended_gcd(17, 122)\n",
    "print xgcd(17,122) ##test\n",
    "    "
   ]
  },
  {
   "cell_type": "markdown",
   "metadata": {},
   "source": [
    "# <h3> Problem 2 </h3>\n",
    "\n",
    "Write a function <samp>num_primes(n)</samp> that returnes the number of primes that are less than or equal to $n$. For instance <samp>num_primes(5)</samp> should return $3$, since $2,3,5$ are the primes that are less than or equal to $5$.  Do not use any bulit-in functions that have to do with primes (you are welcome to reuse the primality test function you wrote for a previous homework). Use it compute the ratio <samp>num_primes(n)/n</samp> for $n=10, 10^2, \\ldots, 10^{10}$.  Plot these ratios using the built-in <samp>list_plot</samp> command (you will need to look up the syntax, since we haven't covered this).  How do you think this ratio behaves as $n\\to \\infty$? "
   ]
  },
  {
   "cell_type": "code",
   "execution_count": 142,
   "metadata": {},
   "outputs": [
    {
     "data": {
      "image/png": "[encoded data removed]",
      "text/plain": [
       "<Figure size 432x288 with 1 Axes>"
      ]
     },
     "metadata": {},
     "output_type": "display_data"
    },
    {
     "name": "stdout",
     "output_type": "stream",
     "text": [
      "2\n",
      "3\n",
      "5\n",
      "10\n",
      "100\n",
      "1000\n",
      "10000\n",
      "100000\n",
      "1000000\n",
      "10000000\n",
      "100000000\n",
      "1000000000\n",
      "10000000000\n",
      "None\n"
     ]
    }
   ],
   "source": [
    "import matplotlib.pyplot as plt\n",
    "\n",
    "def num_primes(n):\n",
    "    if n <= 1:\n",
    "        return False\n",
    "    for i in range(2, n):\n",
    "        if n % i == 0:\n",
    "            return False\n",
    "    return True\n",
    "\n",
    "def print_num_primes(n):\n",
    "    for i in range(2, n + 1):\n",
    "        if num_primes(i):\n",
    "            print(i)\n",
    "            \n",
    "#def ratio_num_primes(n):\n",
    "    for i in (10 ** p for p in range (1,11)):\n",
    "        print i\n",
    "        \n",
    "plt.plot([1,10,100,1000,100000,1000000,10000000,100000000,1000000000,10000000000],[1,10,100,1000,100000,1000000,10000000,100000000,1000000000,10000000000], 'ro')\n",
    "plt.axis([0, 1000, 0, 100000])\n",
    "plt.show()\n",
    "\n",
    "#print num_primes(5)\n",
    "print print_num_primes(5)\n"
   ]
  },
  {
   "cell_type": "markdown",
   "metadata": {},
   "source": [
    "<h3> Problem 3 </h3> \n",
    "\n",
    "We say that two integers $a,b$ are <i> relatively prime </i>  if $gcd(a,b)=1$ (or equivalently, they share no common prime factor).  Write a function <samp>num_rel_prime(n)</samp> that returns the number of positive integers less than $n$ that are relatively prime to $n$ (where $n$ is any positive integer).  For instance, <samp>num_rel_prime(6)</samp> should return $2$, since $1,5$ are the positive integers less than $6$ that are relatively prime to it.  Compute <samp>num_rel_prime(n)</samp> for \n",
    "$$n=7,11,13,17,19,23,4,9,25,49,12,18,20,50.$$\n",
    "Based on these experiments and any more that you find useful, guess a general formula for <samp>num_rel_prime(n)</samp> in terms of the prime factorization of $n$.  "
   ]
  },
  {
   "cell_type": "code",
   "execution_count": 101,
   "metadata": {},
   "outputs": [
    {
     "name": "stdout",
     "output_type": "stream",
     "text": [
      "(6, 2)\n",
      "(7, 6)\n",
      "(11, 10)\n",
      "(13, 12)\n",
      "(17, 16)\n",
      "(19, 18)\n",
      "(23, 22)\n",
      "(4, 2)\n",
      "(9, 6)\n",
      "(25, 20)\n",
      "(49, 42)\n",
      "(12, 6)\n",
      "(18, 6)\n",
      "(20, 8)\n",
      "(50, 20)\n"
     ]
    }
   ],
   "source": [
    "def gcd(a, b):\n",
    "    if a < b:\n",
    "        a, b = b, a\n",
    "    while b != 0:\n",
    "        temp = a\n",
    "        a = b\n",
    "        b = temp % b\n",
    "    return a\n",
    "\n",
    "def num_rel_prime(n):\n",
    "    count = 0\n",
    "    for i in range(1, n):\n",
    "        if gcd(i, n) == 1:\n",
    "            count += 1\n",
    "    return count\n",
    "\n",
    "print(6, num_rel_prime(6))  #each n is paired with its prime i.e 6 is paired with 2\n",
    "print(7, num_rel_prime(7))\n",
    "print(11, num_rel_prime(11))\n",
    "print(13, num_rel_prime(13))\n",
    "print(17, num_rel_prime(17))\n",
    "print(19, num_rel_prime(19))\n",
    "print(23, num_rel_prime(23))\n",
    "print(4, num_rel_prime(4))\n",
    "print(9, num_rel_prime(9))\n",
    "print(25, num_rel_prime(25))\n",
    "print(49, num_rel_prime(49))\n",
    "print(12, num_rel_prime(18))\n",
    "print(18, num_rel_prime(18))\n",
    "print(20, num_rel_prime(20))\n",
    "print(50, num_rel_prime(50))\n",
    "\n",
    "# a general formula that can be used for prime factorization would be Wilsons\n",
    "# Theorem. That being f(n) = [(n! % (n + 1))/n](n-1) + 2  for positive integer n"
   ]
  },
  {
   "cell_type": "markdown",
   "metadata": {},
   "source": [
    "\n",
    "<h3> Problem 4 </h3>\n",
    "\n",
    "(a) Write a function <samp>alt_gcd(a,b)</samp> that returns the gcd of $a,b$ (where $a,b$ are positive integers), but do NOT use the Euclidean algorithm.  Rather, use the factoring function you wrote for last homework (or some modification of it); recall that if we know the prime factorizations of both $a,b$, we can find the $gcd$ by looking at the smaller power of each prime that occurs in each of $a,b$.  \n",
    "\n",
    "(b) Let $f(n)$ be the maximum of the running time of your <samp>alt_gcd(a,b)</samp> function, where $a,b$ range over all pairs of $n$ digit numbers.  Using timed experiments, guess the rough order of growth of $f(n)$ as $n\\to \\infty$ (i.e. is it logarithmitic, linear, quadratic, exponential)?  The <samp>%%time</samp> and <samp>%time</samp> commands may be useful for doing the timing.  "
   ]
  },
  {
   "cell_type": "code",
   "execution_count": 136,
   "metadata": {},
   "outputs": [
    {
     "name": "stdout",
     "output_type": "stream",
     "text": [
      "[2, 2, 5, 5]\n",
      "x^3\n",
      "x^4\n",
      "x^5\n",
      "x^7\n",
      "x^9\n",
      "x^25\n",
      "CPU times: user 0 ns, sys: 0 ns, total: 0 ns\n",
      "Wall time: 6.91 µs\n"
     ]
    }
   ],
   "source": [
    "def prime(n): \n",
    "    i = 2  \n",
    "    factors = []  \n",
    "    while i * i <= n:          \n",
    "        if n % i:\n",
    "            i += 1\n",
    "        else:\n",
    "            n //= i\n",
    "            factors.append(i)\n",
    "    if n > 1:\n",
    "            factors.append(n)\n",
    "    return factors\n",
    "\n",
    "def alt_gcd(a, b):\n",
    "    \n",
    "    prime_a = prime(a)\n",
    "    prime_b = prime(b)\n",
    "    \n",
    "    commonFactors = []\n",
    "    \n",
    "    for i in prime_a:\n",
    "        if i in prime_b:\n",
    "            commonFactors.append(i)\n",
    "            prime_b.remove(i)\n",
    "    \n",
    "    gcd = 1\n",
    "    \n",
    "    for i in commonFactors:\n",
    "        gcd *= x\n",
    "    return gcd\n",
    "\n",
    "print prime(100)\n",
    "print alt_gcd(800,250)\n",
    "print alt_gcd(1000,250)\n",
    "print alt_gcd(2000, 600)\n",
    "print alt_gcd(20000, 6000)\n",
    "print alt_gcd(200000, 60000)\n",
    "print alt_gcd(200000000000000000, 6000000000000)\n",
    "%time\n",
    "\n",
    "##Through the experiments, the order of growth as n approaches \n",
    "##infinity is logarithmitic\n"
   ]
  },
  {
   "cell_type": "code",
   "execution_count": null,
   "metadata": {},
   "outputs": [],
   "source": []
  }
 ],
 "metadata": {
  "kernelspec": {
   "display_name": "SageMath 8.6",
   "language": "",
   "name": "sagemath"
  },
  "language_info": {
   "codemirror_mode": {
    "name": "ipython",
    "version": 2
   },
   "file_extension": ".py",
   "mimetype": "text/x-python",
   "name": "python",
   "nbconvert_exporter": "python",
   "pygments_lexer": "ipython2",
   "version": "2.7.15"
  }
 },
 "nbformat": 4,
 "nbformat_minor": 2
}
